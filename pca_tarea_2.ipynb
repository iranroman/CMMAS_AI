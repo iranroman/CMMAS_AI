{
  "nbformat": 4,
  "nbformat_minor": 0,
  "metadata": {
    "colab": {
      "name": "pca_tarea_2.ipynb",
      "provenance": [],
      "collapsed_sections": []
    },
    "kernelspec": {
      "name": "python3",
      "display_name": "Python 3"
    }
  },
  "cells": [
    {
      "cell_type": "code",
      "metadata": {
        "id": "002fdL4gzX57",
        "colab_type": "code",
        "colab": {}
      },
      "source": [
        "# en este programa implementaremos el análisis de componentes principales (PCA)\n",
        "# y lo aplicarás a datos de audio digital\n",
        "\n",
        "# lo haremos usando numpy con datos generados artificialmente\n",
        "# y también lo haremos usando la librería sklearn\n",
        "\n",
        "# comencemos definiendo algunos parametros generales de nuestros datos\n",
        "N = 500      # número de ejemplos\n",
        "D = 250       # número de carácterísticas\n",
        "K = 2         # número de categorias distintas en nuestros datos"
      ],
      "execution_count": 33,
      "outputs": []
    },
    {
      "cell_type": "code",
      "metadata": {
        "id": "I3ff7BDa0bvL",
        "colab_type": "code",
        "colab": {}
      },
      "source": [
        "# ahora imporamos la libreria numpy y generamos nuestros datos\n",
        "import numpy as np\n",
        "X_0 = np.random.randn(int(N/2),D)           # los datos en la primer categoría son \n",
        "                                            # ejemplos de una distribución normal estándar\n",
        "                                            # con valores entre -inf y +inf\n",
        "X_1 = np.random.uniform(size=[int(N/2),D])  # los datos en la segunda categoría son \n",
        "                                            # ejemplos de una distribución uniforme\n",
        "                                            # con valores entre 0 y 1\n",
        "\n",
        "# para completar nuestros datos, ponemos todo en una sola matriz, \n",
        "# donde las primeras 500 ileras son los datos de la primer categoría\n",
        "# y las siguientes 500 ileras son los datos de la segunda categoría\n",
        "X = np.vstack([X_0,X_1])"
      ],
      "execution_count": 34,
      "outputs": []
    },
    {
      "cell_type": "code",
      "metadata": {
        "id": "pgNsS6YB00g3",
        "colab_type": "code",
        "colab": {}
      },
      "source": [
        "# ahora llevamos a cabo el primer paso de PCA:\n",
        "# estandarizar nuestros datos\n",
        "\n",
        "# calculamos el vector u y centramos X\n",
        "u = np.mean(X, axis=0, keepdims=True)\n",
        "X_cent = X - u\n",
        "\n",
        "# ahora calculamos sigma y normalizamos la varianza de X_cent\n",
        "sigm = np.std(X_cent, axis=0, keepdims=True)\n",
        "X_std = X_cent/sigm"
      ],
      "execution_count": 35,
      "outputs": []
    },
    {
      "cell_type": "code",
      "metadata": {
        "id": "F1nyOykCClr2",
        "colab_type": "code",
        "colab": {}
      },
      "source": [
        "# terminado el primer paso, podemos hacer el segundo:\n",
        "# calcular la matriz de covarianza\n",
        "C = (1/N)*np.dot(X_std.T,X_std)"
      ],
      "execution_count": 42,
      "outputs": []
    },
    {
      "cell_type": "code",
      "metadata": {
        "id": "PTqayTc2DSKi",
        "colab_type": "code",
        "colab": {}
      },
      "source": [
        "# el tercer paso es calcular los autovalores y autovectores\n",
        "# de la matriz de covarianza\n",
        "\n",
        "# para esto vamos a usar las herramientas de algebra lineal en numpy\n",
        "D, V = np.linalg.eig(C)"
      ],
      "execution_count": 43,
      "outputs": []
    },
    {
      "cell_type": "code",
      "metadata": {
        "id": "4jlbNyclF69X",
        "colab_type": "code",
        "colab": {}
      },
      "source": [
        "# finalmente, reducimos la dimensionalidad de nuestros datos\n",
        "\n",
        "# en este ejercicio vamos a encontrar 2 componentes principales\n",
        "# entonces encontramos la ubicación de los dos autovalores más altos\n",
        "# en D. Aquí D es un vector que corresponde a la diagonal de la\n",
        "# matriz de autovalores que discutimos en clase.\n",
        "max_2_eig_idx = np.argsort(D)[-2:]\n",
        "\n",
        "# definimos W con los dos autovectores más altos\n",
        "W = V[:,np.flip(max_2_eig_idx)]\n",
        "\n",
        "# proyectamos X_std sobre los dos autovectores más altos\n",
        "X_PCA = np.dot(X_std,W)"
      ],
      "execution_count": 44,
      "outputs": []
    },
    {
      "cell_type": "code",
      "metadata": {
        "id": "CNOEAeV5GbsF",
        "colab_type": "code",
        "colab": {
          "base_uri": "https://localhost:8080/",
          "height": 265
        },
        "outputId": "017d9942-00d7-43ae-bffb-92231d974c54"
      },
      "source": [
        "# ahora graficamos los resultados\n",
        "%matplotlib inline\n",
        "import matplotlib.pyplot as plt\n",
        "\n",
        "plt.scatter(X_PCA[:250,0],X_PCA[:250,1])\n",
        "plt.scatter(X_PCA[250:,0],X_PCA[250:,1])\n",
        "plt.xlabel('PCA 1')\n",
        "plt.ylabel('PCA 2')\n",
        "plt.show()"
      ],
      "execution_count": 45,
      "outputs": [
        {
          "output_type": "display_data",
          "data": {
            "image/png": "[encoded data removed]",
            "text/plain": [
              "<Figure size 432x288 with 1 Axes>"
            ]
          },
          "metadata": {
            "tags": [],
            "needs_background": "light"
          }
        }
      ]
    },
    {
      "cell_type": "code",
      "metadata": {
        "id": "a3JpTRY1IHg8",
        "colab_type": "code",
        "colab": {
          "base_uri": "https://localhost:8080/",
          "height": 279
        },
        "outputId": "d926554d-397f-4277-ca37-7f3511362bf6"
      },
      "source": [
        "# python tiene una librería llamada sklearn que hace todos los pasos de\n",
        "# PCA con funciones predeterminadas\n",
        "\n",
        "from sklearn.decomposition import PCA\n",
        "from sklearn.preprocessing import StandardScaler\n",
        "\n",
        "# primero usamos StandardScaler para estandarizar los datos\n",
        "X_std = StandardScaler().fit_transform(X)\n",
        "\n",
        "# después usamos PCA para crear el algoritmo\n",
        "pca = PCA(n_components=2) # aquí se puede determinar otro número \n",
        "                          # de componentes principales si así se desea                          \n",
        "\n",
        "# y lo aplicamos alos datos\n",
        "X_PCA = pca.fit_transform(X_std)   \n",
        "\n",
        "# graficamos para comprobar que todo se ve igual\n",
        "plt.scatter(X_PCA[:250,0],X_PCA[:250,1])\n",
        "plt.scatter(X_PCA[250:,0],X_PCA[250:,1])\n",
        "plt.xlabel('PCA 1')\n",
        "plt.ylabel('PCA 2')\n",
        "plt.show()                               "
      ],
      "execution_count": 51,
      "outputs": [
        {
          "output_type": "display_data",
          "data": {
            "image/png": "[encoded data removed]",
            "text/plain": [
              "<Figure size 432x288 with 1 Axes>"
            ]
          },
          "metadata": {
            "tags": [],
            "needs_background": "light"
          }
        }
      ]
    },
    {
      "cell_type": "code",
      "metadata": {
        "id": "tgLBJfitJtJm",
        "colab_type": "code",
        "colab": {}
      },
      "source": [
        "# Ahora tu harás lo mismo pero con una matriz que tiene grabaciones de audio\n",
        "# esta celda va a cargar los datos que vas a usar. No cambies nada aquí. Solo\n",
        "# corre la celda. El proceso de cargar los datos se va a tardar un tiempo. \n",
        "# Ten paciencia. Esta celda solo se debe correr una vez. \n",
        "\n",
        "# Después de correr esta celda, vas a tener una matriz 'x' de 577x16000\n",
        "# donde cada ilera es una grabación (fs=16000) de un segundo de un \n",
        "# instrumento de cuerda (Violín, Viola o Cello). Solo se toca una nota\n",
        "# en cada grabación. Las primeras 285 ileras de la matriz 'x' son notas\n",
        "# que fueron tocadas con arco, y las siguientes 292 ileras con notas que fueron\n",
        "# tocadas con pizzicato.\n",
        "\n",
        "!rm -r data_zip\n",
        "!rm -r data\n",
        "!mkdir data_zip\n",
        "!mkdir data\n",
        "import urllib.request\n",
        "url = 'http://theremin.music.uiowa.edu/sound%20files/MIS%20Pitches%20-%202014/Strings/'\n",
        "instruments = ['Violin','Viola','Cello']\n",
        "attacks = ['arco','pizz']\n",
        "strings = {'Violin':['E','A','D','G'], 'Viola':['A','D','G','C'], 'Cello':['A','D','G','C']}\n",
        "\n",
        "for instrument in instruments:\n",
        "  print('Downloading ', instrument, ' files')\n",
        "  for attack in attacks:\n",
        "    for string in strings[instrument]:\n",
        "      filename = instrument+'.'+attack+'.ff.sul'+string+'.stereo.zip'\n",
        "      fullpath = url+instrument+'/'+filename\n",
        "      response = urllib.request.urlretrieve(fullpath,'data_zip/'+filename)\n",
        "\n",
        "!for file in data_zip/*.zip; do unzip \"$file\" -d data; done\n",
        "!for file in data/*.aif; do ffmpeg -i \"$file\" \"$file\".wav; done\n",
        "!rm data/*.aif \n",
        "!rm -r data/__MACOSX\n",
        "\n",
        "import glob\n",
        "import librosa    \n",
        "x_arco = []\n",
        "for filename in glob.glob('data/*arco*.wav'):\n",
        "  data, fs = librosa.load(filename, sr=16000)  \n",
        "  x_arco.append(data)\n",
        "\n",
        "x_pizz = []\n",
        "for filename in glob.glob('data/*pizz*.wav'):\n",
        "  data, fs = librosa.load(filename, sr=16000)\n",
        "  x_pizz.append(data)\n",
        "\n",
        "import numpy as np\n",
        "x = x_arco + x_pizz\n",
        "max_len = 16000\n",
        "for idata, data in enumerate(x):\n",
        "  x[idata] = np.ndarray.tolist(data[:max_len]) + [0]*(max_len - len(data))\n",
        "\n",
        "x = np.array(x)"
      ],
      "execution_count": null,
      "outputs": []
    },
    {
      "cell_type": "code",
      "metadata": {
        "id": "OAFZu-dXQmrX",
        "colab_type": "code",
        "colab": {}
      },
      "source": [
        "# tu tarea es generar una visualización 2D de los datos en esta matriz usando\n",
        "# PCA. Lo debes hacer tanto 'a mano con numpy', como con sklearn, y tus \n",
        "# resultados deben ser similares con ambos métodos. \n",
        "\n",
        "# en tu visualización resultante, debe verse la separación (aunque no sea perfecta)\n",
        "# entre datos que fueron tocados con arco y datos que fueron tocados con pizzicato\n",
        "\n",
        "# Responde las preguntas: ¿Qué característica de tus datos crees \n",
        "# que es el primer componente principal? ¿Qué crees que sea el segundo?\n",
        "\n",
        "# algunas pistas: \n",
        "# 1. aquí la matriz se llama 'x' porque está en el dominio del tiempo.\n",
        "#     Considera obtener X calculando la magnitud del fft de x.\n",
        "# 2. si calculas la magnitud del fft, recuerda que solo necesitas la mitad \n",
        "#     del espectro porque las frecuencias negativas y positivas son una\n",
        "#     copia espejo unas de otras.\n",
        "# 3. antes de llevar a cabo la estandarización de datos, recuerda que aquí estás\n",
        "#     trabajando con grabaciones de audio. ¿Te puede beneficiar si normalizas \n",
        "#     las grabaciones de audio (en el dominio del tiempo) antes de hacer \n",
        "#     cualquier otra cosa?\n",
        "\n",
        "# otras cosas que puedes hacer:\n",
        "#     a) una visualización en 3D con tres componentes principales\n",
        "#     b) extraer caracteristicas manualmente y hacer PCA en las caracteristicas\n",
        "#        que hayas extraído.\n",
        "#     c) alinear las grabaciones para que todas tengan el tiempo de ataque\n",
        "#        en el mismo índice de la matriz 'x'\n",
        "#     d) todo lo que se te ocurra para mejorar la separación de ataque arco \n",
        "#        y pizzicato.\n",
        "#     e) reducir la tasa de muestreo (haciendo resampling) para que la \n",
        "#        dimensionalidad de 'x' sea más pequeña. PCA funciona mejor cuando el \n",
        "#        número de columnas es menor al número de ileras."
      ],
      "execution_count": null,
      "outputs": []
    }
  ]
}