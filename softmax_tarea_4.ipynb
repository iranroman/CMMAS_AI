{
  "nbformat": 4,
  "nbformat_minor": 0,
  "metadata": {
    "colab": {
      "name": "softmax_tarea_4.ipynb",
      "provenance": [],
      "collapsed_sections": []
    },
    "kernelspec": {
      "name": "python3",
      "display_name": "Python 3"
    }
  },
  "cells": [
    {
      "cell_type": "code",
      "metadata": {
        "id": "wTJsCDqM7Xc6",
        "colab_type": "code",
        "colab": {}
      },
      "source": [
        "# En este programa implementarás el clasificador multi-clase Softmax\n",
        "# desde cero. \n",
        "\n",
        "# esta celda carga los datos, los cuales consisten en ejemplos de dos segundos\n",
        "# de audio de 10 géneros musicales distintos: 0 'blues', 1 'classical', \n",
        "# 2 'country', 3 'disco', 4 'hiphop', 5 'jazz', 6 'metal', 7 'pop', 8 'reggae'\n",
        "# 9 'rock'. Cada número corresponde al índice de columna en la matriz 'y' \n",
        "# que contiene el número 1 para cada género musical correspondiente. \n",
        "# la tasa de meustreo de estas celdas es fs=22050 Hz. Aquí se cargan los datos \n",
        "# de entrenamiento 'X_tr' y 'y_tr', los de validación 'X_vl' y 'y_vl', \n",
        "# y los de prueba 'X_ts' y 'y_ts'. Hay 8000 ejemplos de entrenamiento, \n",
        "# 100 de validación, y 100 de prueba. \n",
        "\n",
        "!rm gtzan.zip\n",
        "!gdown --id 1wAjDwxWMSjrWz4-tbQyWIyqGLMVetWed\n",
        "!unzip gtzan.zip\n",
        "\n",
        "import numpy as np\n",
        "K=10\n",
        "X_tr = np.load('gtzan_tr.npy')\n",
        "y_tr_dense = X_tr[:,-1]\n",
        "y_tr = np.zeros((X_tr.shape[0],K))\n",
        "y_tr[range(X_tr.shape[0]),y_tr_dense.astype(int)] = 1\n",
        "X_tr = X_tr[:,:-1]\n",
        "X_vl = np.load('gtzan_cv.npy')\n",
        "y_vl_dense = X_vl[:,-1]\n",
        "y_vl = np.zeros((X_vl.shape[0],K))\n",
        "y_vl[range(X_vl.shape[0]),y_vl_dense.astype(int)] = 1\n",
        "X_vl = X_vl[:,:-1]\n",
        "X_ts = np.load('gtzan_te.npy')\n",
        "y_ts_dense = X_ts[:,-1]\n",
        "y_ts = np.zeros((X_ts.shape[0],K))\n",
        "y_ts[range(X_ts.shape[0]),y_ts_dense.astype(int)] = 1\n",
        "X_ts = X_ts[:,:-1]\n",
        "\n",
        "print('El tamaño de X_ts (datos de prueba) es: ', X_ts.shape)\n",
        "print('El tamaño de y_ts (datos de prueba) es: ', y_ts.shape)\n",
        "print('El tamaño de X_vl (datos de validación) es: ', X_vl.shape)\n",
        "print('El tamaño de y_vl (datos de validación) es: ', y_vl.shape)\n",
        "print('El tamaño de X_tr (datos de entrenamiento) es: ', X_tr.shape)\n",
        "print('El tamaño de y_tr (datos de entrenamiento) es: ', y_tr.shape)"
      ],
      "execution_count": null,
      "outputs": []
    },
    {
      "cell_type": "code",
      "metadata": {
        "id": "rICKiooSfgrN",
        "colab_type": "code",
        "colab": {}
      },
      "source": [
        "# Estos datos tienen una dimensionalidad enorme (44100). \n",
        "# reusa el código de la Tarea 2 para reducir la dimensionalidad de tus datos.\n",
        "# Recuerda que la meta es separar los ejemplos de distintos géneros musicales.\n",
        "\n",
        "# Cuando estandarices los datos, debes de estandarizar todos los datos (de prueba, de \n",
        "# validación, y de entrenamiento) usando los vectores 'u' y 'sigm' que calculaste\n",
        "# con los datos de entrenamiento.\n",
        "\n",
        "# Cuando lleves a cabo PCA, la matriz 'W' es calculada unicamente con los datos \n",
        "# de entrenamiento (¿por qué?), y la misma matriz se usa para multiplicar los datos de\n",
        "# entrenamiento, validación y prueba\n",
        "\n",
        "####################\n",
        "## tu código aquí ##\n",
        "####################"
      ],
      "execution_count": null,
      "outputs": []
    },
    {
      "cell_type": "code",
      "metadata": {
        "id": "oE4a8pUfsMcp",
        "colab_type": "code",
        "colab": {}
      },
      "source": [
        "# ahora implementamos Softmax con validación cruzada y descenso por gradiente\n",
        "\n",
        "# algunas variables que te recomiendo definir\n",
        "Ntrain = # your code here\n",
        "Nval = # your code here\n",
        "D = # your code here\n",
        "K = # your code here\n",
        "\n",
        "# inicializa W para que sea una matriz con valores tomados de una distribución\n",
        "# aleatoria uniforme con promedio de cero y varianza pequeña\n",
        "W = # your code here\n",
        "# inicializa b para que sea un vector de ceros\n",
        "b = # your code here\n",
        "\n",
        "# define la tasa de aprendizaje\n",
        "alpha = # your code here\n",
        "\n",
        "# Ahora ponemos todo en un ciclo for\n",
        "Niters = # your code here\n",
        "for iter in range(Niters):\n",
        "  \n",
        "  # calcula y_hat para:\n",
        "  \n",
        "  # los datos de entrenamiento\n",
        "  theta_tr = # your code here\n",
        "  y_hat_tr = # your code here\n",
        "  \n",
        "  # los datos de validación\n",
        "  theta_vl = # your code here\n",
        "  y_hat_vl = # your code here\n",
        "  \n",
        "  # ahora calcula la función costo para:\n",
        "  \n",
        "  # los datos de entrenamiento\n",
        "  J_tr = # your code here\n",
        "  \n",
        "  # los datos de validación\n",
        "  J_vl = # your code here\n",
        "\n",
        "\n",
        "  # imprimimos para monitorear el aprendizaje\n",
        "  print('En la iteración No. ' + str(iter) + ' , la entropía cruzada de training es: ', J_tr)\n",
        "  print('------------------------------ y la de validación es: ', J_vl)\n",
        "\n",
        "\n",
        "  # ahora actualizamos b y W\n",
        "  dJdtheta = # your code here\n",
        "  dJdb = # your code here\n",
        "  dJdW = # your code here\n",
        "  b = b - alpha*dJdb\n",
        "  W = W - alpha*dJdW"
      ],
      "execution_count": null,
      "outputs": []
    },
    {
      "cell_type": "code",
      "metadata": {
        "id": "R1Kjf8CrM4zJ",
        "colab_type": "code",
        "colab": {}
      },
      "source": [
        "# Ahora calcula la precisión de tu modelo\n",
        "\n",
        "# para hacer esto, debes convertir los valores en y_hat\n",
        "# a 0 o 1 dependiendo de si son mayores o menores a 0.5.\n",
        "# Cualquier valor arriba o igual a 0.5 se convierte en 1, y \n",
        "# cualquier valor menor a 0.5 se convierte en 0.\n",
        "# pista: usa np.round\n",
        "\n",
        "y_hat_tr_0_1 = # tu código aquí\n",
        "y_hat_vl_0_1 = # tu código aquí\n",
        "\n",
        "# después compara que porcentaje de valores de np.round(y_hat)\n",
        "# son iguales a los valores en y para obtener la precisión\n",
        "\n",
        "print('La precisión de entrenamiento es: ', # tu código aquí\n",
        "print('La precisión de validación es: ', # tu código aquí"
      ],
      "execution_count": null,
      "outputs": []
    },
    {
      "cell_type": "code",
      "metadata": {
        "id": "rIiyErEaCy7m",
        "colab_type": "code",
        "colab": {}
      },
      "source": [
        "# Otras cosas que debes hacer:\n",
        "\n",
        "# Crea graficas para visualizar el costo y la precisión de los datos de entrenamiento\n",
        "# y de validación en función a las iteraciones del ciclo 'for'\n",
        "\n",
        "# Desarrola el mejor modelo que puedas. Cuando termines la tarea, ve que tal\n",
        "# se desempeña tu modelo con los datos de prueba."
      ],
      "execution_count": null,
      "outputs": []
    }
  ]
}